{
  "nbformat": 4,
  "nbformat_minor": 0,
  "metadata": {
    "colab": {
      "provenance": [],
      "authorship_tag": "ABX9TyPIjLH26hWoaxUyyGuPX3ZX",
      "include_colab_link": true
    },
    "kernelspec": {
      "name": "python3",
      "display_name": "Python 3"
    },
    "language_info": {
      "name": "python"
    }
  },
  "cells": [
    {
      "cell_type": "markdown",
      "metadata": {
        "id": "view-in-github",
        "colab_type": "text"
      },
      "source": [
        "<a href=\"https://colab.research.google.com/github/carmen74goma-pixel/Redes-Neuronales-IA/blob/main/Neurona_Multicapa_para_clasificar_digitos_manuales_Tarea.ipynb\" target=\"_parent\"><img src=\"https://colab.research.google.com/assets/colab-badge.svg\" alt=\"Open In Colab\"/></a>"
      ]
    },
    {
      "cell_type": "code",
      "source": [
        "#Se descarga la librería Tensorflow y numpy\n",
        "import tensorflow as tf\n",
        "from tensorflow.keras.models import Sequential\n",
        "from tensorflow.keras.layers import Dense, Flatten\n",
        "from tensorflow.keras.utils import to_categorical\n",
        "import numpy as np"
      ],
      "metadata": {
        "id": "4sXz11WyMB1v"
      },
      "execution_count": 3,
      "outputs": []
    },
    {
      "cell_type": "code",
      "source": [
        "# 1. Cargar y preparar los datos\n",
        "# Cargamos el dataset MNIST, que ya viene incluido en Keras\n",
        "(x_train, y_train), (x_test, y_test) = tf.keras.datasets.mnist.load_data()"
      ],
      "metadata": {
        "colab": {
          "base_uri": "https://localhost:8080/"
        },
        "id": "rAQSScEpMlLl",
        "outputId": "c4bfde11-7c69-461d-fb19-4ec23f5e733e"
      },
      "execution_count": 4,
      "outputs": [
        {
          "output_type": "stream",
          "name": "stdout",
          "text": [
            "Downloading data from https://storage.googleapis.com/tensorflow/tf-keras-datasets/mnist.npz\n",
            "\u001b[1m11490434/11490434\u001b[0m \u001b[32m━━━━━━━━━━━━━━━━━━━━\u001b[0m\u001b[37m\u001b[0m \u001b[1m0s\u001b[0m 0us/step\n"
          ]
        }
      ]
    },
    {
      "cell_type": "markdown",
      "source": [
        "Cargamos el data ser MINIST que consiste en 60 000 imagenes de entrenamiento (28x28 pixeles)y 10 000 de prueba."
      ],
      "metadata": {
        "id": "GTyNqsOtYBRr"
      }
    },
    {
      "cell_type": "code",
      "source": [
        "# Normalizar las imágenes a un rango de 0 a 1 (originalmente son 0-255)\n",
        "x_train = x_train.astype('float32') / 255.0\n",
        "x_test = x_test.astype('float32') / 255.0"
      ],
      "metadata": {
        "id": "VRwEgBJEMomT"
      },
      "execution_count": 5,
      "outputs": []
    },
    {
      "cell_type": "markdown",
      "source": [
        "Normalización: Escala los valores de píxeles a un rango de 0 a 1."
      ],
      "metadata": {
        "id": "k1xEleJ1W0tc"
      }
    },
    {
      "cell_type": "code",
      "source": [
        "# Codificación \"one-hot\" para las etiquetas (por ejemplo, el dígito 5 se convierte en [0, 0, 0, 0, 0, 1, 0, 0, 0, 0])\n",
        "# Esto es necesario para la función de pérdida 'categorical_crossentropy'\n",
        "y_train = to_categorical(y_train, num_classes=10)\n",
        "y_test = to_categorical(y_test, num_classes=10)"
      ],
      "metadata": {
        "id": "HMrJqKLiMxmT"
      },
      "execution_count": 6,
      "outputs": []
    },
    {
      "cell_type": "markdown",
      "source": [
        "\n",
        "One Hote  Encoding convierte las etiquetas de clase en vectores binarios"
      ],
      "metadata": {
        "id": "ZIvuxP0yWg79"
      }
    },
    {
      "cell_type": "code",
      "source": [
        "# 2. Definir la arquitectura del modelo\n",
        "model = Sequential([\n",
        "    # La capa Flatten convierte la imagen de 28x28 píxeles en un vector plano de 784 elementos\n",
        "    Flatten(input_shape=(28, 28)),\n",
        "\n",
        "    # Capa oculta densamente conectada con 128 neuronas y función de activación ReLU\n",
        "    Dense(128, activation='relu'),\n",
        "\n",
        "    # Capa oculta densamente conectada con 64 neuronas y función de activación ReLU\n",
        "    Dense(64, activation='relu'),\n",
        "\n",
        "    # Capa de salida densamente conectada con 10 neuronas (una por clase) y función Softmax\n",
        "    # Softmax asegura que las salidas son probabilidades que suman 1\n",
        "    Dense(10, activation='softmax')\n",
        "])"
      ],
      "metadata": {
        "colab": {
          "base_uri": "https://localhost:8080/"
        },
        "id": "2XseaiD9M4az",
        "outputId": "eba09957-5039-46ec-a1d9-03ddc4a2c118"
      },
      "execution_count": 7,
      "outputs": [
        {
          "output_type": "stream",
          "name": "stderr",
          "text": [
            "/usr/local/lib/python3.12/dist-packages/keras/src/layers/reshaping/flatten.py:37: UserWarning: Do not pass an `input_shape`/`input_dim` argument to a layer. When using Sequential models, prefer using an `Input(shape)` object as the first layer in the model instead.\n",
            "  super().__init__(**kwargs)\n"
          ]
        }
      ]
    },
    {
      "cell_type": "markdown",
      "source": [
        "Utilizamos Sequential porque las capas se apilan una tras otra de forma lineal.\n",
        "Flatten(imput_shape=(28, 28)Trasforma cada imagen de 28 x 28 pixeles en un vector simple de 784 elementos. Entrada para las capas densas.\n",
        "Dense(128, activation='relu') y Dense(64, activation='relu'). Son las capas intermedias, donde ocurre el aprendizaje.Cada neurona está densamente conectada a todas las neuronas de la capa anterior. La función de activación ReLU(Rectifiel Linear Unit)intriduce no linealidad, lo que permite al modelo aprender patrones commplejos.\n",
        "Dense(10, activactión='softmax') Tiene 10 neuronas, una por cada clase (0 a 9).\n",
        "La función de activación Softmax convierte las salidas en una distribución de probabilidad, asegurando que la suma de las salidas sea 1. La neurona con el valor más alto es la prdicción del modelo."
      ],
      "metadata": {
        "id": "BUNm4vczYqBV"
      }
    },
    {
      "cell_type": "code",
      "source": [
        "# 3. Compilar el modelo\n",
        "model.compile(optimizer='adam',\n",
        "              loss='categorical_crossentropy',\n",
        "              metrics=['accuracy'])\n"
      ],
      "metadata": {
        "id": "ZT7OdAA7NDi9"
      },
      "execution_count": 8,
      "outputs": []
    },
    {
      "cell_type": "markdown",
      "source": [
        "optimizer='adam' Algoritmo que ajusta los pesos de la red durante el entrenamiento para minimizar la función de pérdida. Adam es una opción popular y eficiente.\n",
        "loss='categorical_crossentropy' Mide qué tan mal se está desempeñando el modelo. Se utiliza para problemas de clasificación multiclase con etiquetas one-hot encoded.\n",
        "metrics=['accuracy'] Métrica para supervisar el rendimiento del modelo durante el entrenamiento y la evaluación."
      ],
      "metadata": {
        "id": "LxCNeKzphSjt"
      }
    },
    {
      "cell_type": "code",
      "source": [
        "# 4. Entrenar el modelo\n",
        "# 'epochs' indica cuántas veces se presentará todo el conjunto de entrenamiento a la red\n",
        "model.fit(x_train, y_train, epochs=10, batch_size=32, verbose=1)\n"
      ],
      "metadata": {
        "colab": {
          "base_uri": "https://localhost:8080/"
        },
        "id": "SojE_D-RNIAU",
        "outputId": "f145ad01-701e-4049-ae39-914bc2ab8519"
      },
      "execution_count": 9,
      "outputs": [
        {
          "output_type": "stream",
          "name": "stdout",
          "text": [
            "Epoch 1/10\n",
            "\u001b[1m1875/1875\u001b[0m \u001b[32m━━━━━━━━━━━━━━━━━━━━\u001b[0m\u001b[37m\u001b[0m \u001b[1m11s\u001b[0m 5ms/step - accuracy: 0.8673 - loss: 0.4431\n",
            "Epoch 2/10\n",
            "\u001b[1m1875/1875\u001b[0m \u001b[32m━━━━━━━━━━━━━━━━━━━━\u001b[0m\u001b[37m\u001b[0m \u001b[1m9s\u001b[0m 5ms/step - accuracy: 0.9688 - loss: 0.1045\n",
            "Epoch 3/10\n",
            "\u001b[1m1875/1875\u001b[0m \u001b[32m━━━━━━━━━━━━━━━━━━━━\u001b[0m\u001b[37m\u001b[0m \u001b[1m8s\u001b[0m 4ms/step - accuracy: 0.9773 - loss: 0.0727\n",
            "Epoch 4/10\n",
            "\u001b[1m1875/1875\u001b[0m \u001b[32m━━━━━━━━━━━━━━━━━━━━\u001b[0m\u001b[37m\u001b[0m \u001b[1m9s\u001b[0m 5ms/step - accuracy: 0.9851 - loss: 0.0503\n",
            "Epoch 5/10\n",
            "\u001b[1m1875/1875\u001b[0m \u001b[32m━━━━━━━━━━━━━━━━━━━━\u001b[0m\u001b[37m\u001b[0m \u001b[1m9s\u001b[0m 5ms/step - accuracy: 0.9874 - loss: 0.0407\n",
            "Epoch 6/10\n",
            "\u001b[1m1875/1875\u001b[0m \u001b[32m━━━━━━━━━━━━━━━━━━━━\u001b[0m\u001b[37m\u001b[0m \u001b[1m8s\u001b[0m 4ms/step - accuracy: 0.9903 - loss: 0.0300\n",
            "Epoch 7/10\n",
            "\u001b[1m1875/1875\u001b[0m \u001b[32m━━━━━━━━━━━━━━━━━━━━\u001b[0m\u001b[37m\u001b[0m \u001b[1m9s\u001b[0m 5ms/step - accuracy: 0.9915 - loss: 0.0255\n",
            "Epoch 8/10\n",
            "\u001b[1m1875/1875\u001b[0m \u001b[32m━━━━━━━━━━━━━━━━━━━━\u001b[0m\u001b[37m\u001b[0m \u001b[1m9s\u001b[0m 5ms/step - accuracy: 0.9936 - loss: 0.0203\n",
            "Epoch 9/10\n",
            "\u001b[1m1875/1875\u001b[0m \u001b[32m━━━━━━━━━━━━━━━━━━━━\u001b[0m\u001b[37m\u001b[0m \u001b[1m10s\u001b[0m 5ms/step - accuracy: 0.9937 - loss: 0.0189\n",
            "Epoch 10/10\n",
            "\u001b[1m1875/1875\u001b[0m \u001b[32m━━━━━━━━━━━━━━━━━━━━\u001b[0m\u001b[37m\u001b[0m \u001b[1m8s\u001b[0m 4ms/step - accuracy: 0.9941 - loss: 0.0161\n"
          ]
        },
        {
          "output_type": "execute_result",
          "data": {
            "text/plain": [
              "<keras.src.callbacks.history.History at 0x7eb64718de50>"
            ]
          },
          "metadata": {},
          "execution_count": 9
        }
      ]
    },
    {
      "cell_type": "markdown",
      "source": [
        "x_train, y_train Los datos y etiquetas que se usarán para entrenar la red.\n",
        "epochs=10 El número de veces que el algoritmo de entrenamiento verá todo el conjunto de entrenamiento.\n",
        "batch_size=32 El número de muestras que se propagan a través de la red antes de actualizar los parámetros (pesos y sesgos)."
      ],
      "metadata": {
        "id": "TkJZ_VqAh799"
      }
    },
    {
      "cell_type": "code",
      "source": [
        "# 5. Evaluar el modelo\n",
        "loss, accuracy = model.evaluate(x_test, y_test, verbose=0)\n",
        "print(f\"\\nPrecisión en los datos de prueba: {accuracy*100:.2f}%\")"
      ],
      "metadata": {
        "colab": {
          "base_uri": "https://localhost:8080/"
        },
        "id": "1t2mU8rPNTKk",
        "outputId": "f7671439-433b-4dda-ae68-63c8cb50c789"
      },
      "execution_count": 10,
      "outputs": [
        {
          "output_type": "stream",
          "name": "stdout",
          "text": [
            "\n",
            "Precisión en los datos de prueba: 97.46%\n"
          ]
        }
      ]
    },
    {
      "cell_type": "markdown",
      "source": [
        "model.evaluate(x_test, y_test, ...) Evalúa el rendimiento del modelo en los datos de prueba que nunca antes ha visto.\n",
        "np.argmax(predictions[0]) La función predict devuelve las probabilidades (salida de Softmax); np.argmax encuentra el índice de la probabilidad más alta, que es la clase predicha."
      ],
      "metadata": {
        "id": "9VaDzORYiqc5"
      }
    },
    {
      "cell_type": "markdown",
      "source": [],
      "metadata": {
        "id": "_EsVjf8SjCkb"
      }
    },
    {
      "cell_type": "markdown",
      "source": [],
      "metadata": {
        "id": "GKDR7YLyjDkT"
      }
    },
    {
      "cell_type": "code",
      "source": [
        "# 6. Realizar predicciones\n",
        "predictions = model.predict(x_test[:1])\n",
        "predicted_class = np.argmax(predictions[0])\n",
        "print(f\"Predicción para el primer elemento de prueba: {predicted_class}\")"
      ],
      "metadata": {
        "colab": {
          "base_uri": "https://localhost:8080/"
        },
        "id": "6_UWxSU6NfVr",
        "outputId": "f0e0de2e-f793-4c25-f269-1d07ab76a369"
      },
      "execution_count": 11,
      "outputs": [
        {
          "output_type": "stream",
          "name": "stdout",
          "text": [
            "\u001b[1m1/1\u001b[0m \u001b[32m━━━━━━━━━━━━━━━━━━━━\u001b[0m\u001b[37m\u001b[0m \u001b[1m0s\u001b[0m 73ms/step\n",
            "Predicción para el primer elemento de prueba: 7\n"
          ]
        }
      ]
    },
    {
      "cell_type": "markdown",
      "source": [],
      "metadata": {
        "id": "Of7ry1Y9jcJK"
      }
    },
    {
      "cell_type": "markdown",
      "source": [
        "La función predict devuelve las probabilidades (salida de Softmax); np.argmax encuentra el índice de la probabilidad más alta, que es la clase predicha."
      ],
      "metadata": {
        "id": "Vy_Ebx2Kjczj"
      }
    },
    {
      "cell_type": "markdown",
      "source": [],
      "metadata": {
        "id": "Zz2qXMZoKao-"
      }
    },
    {
      "cell_type": "markdown",
      "source": [],
      "metadata": {
        "id": "g1Mruq7FjTiV"
      }
    }
  ]
}